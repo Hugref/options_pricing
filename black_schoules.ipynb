{
 "cells": [
  {
   "cell_type": "code",
   "execution_count": 48,
   "id": "b077564b",
   "metadata": {},
   "outputs": [],
   "source": [
    "import os\n",
    "import sys\n",
    "import json\n",
    "import numpy as np\n",
    "import pandas as pd\n",
    "import numba as nb\n",
    "import matplotlib.pyplot as plt\n",
    "import opstrat as op\n",
    "import datetime\n",
    "import requests\n",
    "import json\n",
    "import pprint\n",
    "from tqdm import tqdm\n",
    "from scipy.stats import norm\n",
    "\n",
    "pd.set_option('display.max_rows', 1000)"
   ]
  },
  {
   "cell_type": "code",
   "execution_count": 2,
   "id": "fb193066",
   "metadata": {},
   "outputs": [],
   "source": [
    "import yfinance as yf\n",
    "import yfinance as yf\n",
    "msft = yf.Ticker(\"^VIX\")\n",
    "vix = msft.history(period=\"6y\")\n",
    "vix.index = vix.index.astype('int64') // 10**9 - 18000\n",
    "msft = yf.Ticker(\"^TNX\")\n",
    "tnx = msft.history(period=\"6y\")\n",
    "tnx.index = tnx.index.astype('int64') // 10**9 - 3600*4\n",
    "msft = yf.Ticker(\"ES=F\")\n",
    "forward_prices = msft.history(period=\"6y\")\n",
    "forward_prices.index = forward_prices.index.astype('int64') // 10**9 "
   ]
  },
  {
   "cell_type": "code",
   "execution_count": 3,
   "id": "e0567731",
   "metadata": {},
   "outputs": [
    {
     "data": {
      "text/html": [
       "<div>\n",
       "<style scoped>\n",
       "    .dataframe tbody tr th:only-of-type {\n",
       "        vertical-align: middle;\n",
       "    }\n",
       "\n",
       "    .dataframe tbody tr th {\n",
       "        vertical-align: top;\n",
       "    }\n",
       "\n",
       "    .dataframe thead th {\n",
       "        text-align: right;\n",
       "    }\n",
       "</style>\n",
       "<table border=\"1\" class=\"dataframe\">\n",
       "  <thead>\n",
       "    <tr style=\"text-align: right;\">\n",
       "      <th></th>\n",
       "      <th>Date</th>\n",
       "      <th>UnderlyingExp</th>\n",
       "      <th>OptExp</th>\n",
       "      <th>Forward</th>\n",
       "      <th>Type</th>\n",
       "      <th>Style</th>\n",
       "      <th>Strike</th>\n",
       "      <th>Bid</th>\n",
       "      <th>Ask</th>\n",
       "      <th>IVRaw</th>\n",
       "      <th>IVInt</th>\n",
       "      <th>Delta</th>\n",
       "      <th>Gamma</th>\n",
       "      <th>Vega</th>\n",
       "      <th>Theta</th>\n",
       "      <th>Unnamed: 16</th>\n",
       "    </tr>\n",
       "  </thead>\n",
       "  <tbody>\n",
       "    <tr>\n",
       "      <th>0</th>\n",
       "      <td>1496707200</td>\n",
       "      <td>1497571200</td>\n",
       "      <td>1496793600</td>\n",
       "      <td>2430.75</td>\n",
       "      <td>P</td>\n",
       "      <td>E</td>\n",
       "      <td>100.0</td>\n",
       "      <td>0.00</td>\n",
       "      <td>0.35</td>\n",
       "      <td>-1.000000</td>\n",
       "      <td>0.275049</td>\n",
       "      <td>0.000000</td>\n",
       "      <td>0.000000</td>\n",
       "      <td>0.000000</td>\n",
       "      <td>0.000000</td>\n",
       "      <td>NaN</td>\n",
       "    </tr>\n",
       "    <tr>\n",
       "      <th>1</th>\n",
       "      <td>1496707200</td>\n",
       "      <td>1497571200</td>\n",
       "      <td>1496793600</td>\n",
       "      <td>2430.75</td>\n",
       "      <td>P</td>\n",
       "      <td>E</td>\n",
       "      <td>500.0</td>\n",
       "      <td>0.00</td>\n",
       "      <td>0.35</td>\n",
       "      <td>-1.000000</td>\n",
       "      <td>0.275049</td>\n",
       "      <td>0.000000</td>\n",
       "      <td>0.000000</td>\n",
       "      <td>0.000000</td>\n",
       "      <td>0.000000</td>\n",
       "      <td>NaN</td>\n",
       "    </tr>\n",
       "    <tr>\n",
       "      <th>2</th>\n",
       "      <td>1496707200</td>\n",
       "      <td>1497571200</td>\n",
       "      <td>1496793600</td>\n",
       "      <td>2430.75</td>\n",
       "      <td>P</td>\n",
       "      <td>E</td>\n",
       "      <td>800.0</td>\n",
       "      <td>0.00</td>\n",
       "      <td>0.35</td>\n",
       "      <td>-1.000000</td>\n",
       "      <td>0.275049</td>\n",
       "      <td>0.000000</td>\n",
       "      <td>0.000000</td>\n",
       "      <td>0.000000</td>\n",
       "      <td>0.000000</td>\n",
       "      <td>NaN</td>\n",
       "    </tr>\n",
       "    <tr>\n",
       "      <th>3</th>\n",
       "      <td>1496707200</td>\n",
       "      <td>1497571200</td>\n",
       "      <td>1496793600</td>\n",
       "      <td>2430.75</td>\n",
       "      <td>P</td>\n",
       "      <td>E</td>\n",
       "      <td>825.0</td>\n",
       "      <td>0.00</td>\n",
       "      <td>0.35</td>\n",
       "      <td>-1.000000</td>\n",
       "      <td>0.275049</td>\n",
       "      <td>0.000000</td>\n",
       "      <td>0.000000</td>\n",
       "      <td>0.000000</td>\n",
       "      <td>0.000000</td>\n",
       "      <td>NaN</td>\n",
       "    </tr>\n",
       "    <tr>\n",
       "      <th>4</th>\n",
       "      <td>1496707200</td>\n",
       "      <td>1497571200</td>\n",
       "      <td>1496793600</td>\n",
       "      <td>2430.75</td>\n",
       "      <td>P</td>\n",
       "      <td>E</td>\n",
       "      <td>850.0</td>\n",
       "      <td>0.00</td>\n",
       "      <td>0.35</td>\n",
       "      <td>-1.000000</td>\n",
       "      <td>0.275049</td>\n",
       "      <td>0.000000</td>\n",
       "      <td>0.000000</td>\n",
       "      <td>0.000000</td>\n",
       "      <td>0.000000</td>\n",
       "      <td>NaN</td>\n",
       "    </tr>\n",
       "    <tr>\n",
       "      <th>...</th>\n",
       "      <td>...</td>\n",
       "      <td>...</td>\n",
       "      <td>...</td>\n",
       "      <td>...</td>\n",
       "      <td>...</td>\n",
       "      <td>...</td>\n",
       "      <td>...</td>\n",
       "      <td>...</td>\n",
       "      <td>...</td>\n",
       "      <td>...</td>\n",
       "      <td>...</td>\n",
       "      <td>...</td>\n",
       "      <td>...</td>\n",
       "      <td>...</td>\n",
       "      <td>...</td>\n",
       "      <td>...</td>\n",
       "    </tr>\n",
       "    <tr>\n",
       "      <th>8188751</th>\n",
       "      <td>1666915200</td>\n",
       "      <td>1686873600</td>\n",
       "      <td>1684454400</td>\n",
       "      <td>3978.00</td>\n",
       "      <td>C</td>\n",
       "      <td>E</td>\n",
       "      <td>5400.0</td>\n",
       "      <td>2.80</td>\n",
       "      <td>3.45</td>\n",
       "      <td>0.185762</td>\n",
       "      <td>0.185762</td>\n",
       "      <td>0.016306</td>\n",
       "      <td>0.000076</td>\n",
       "      <td>1.177011</td>\n",
       "      <td>-0.053464</td>\n",
       "      <td>NaN</td>\n",
       "    </tr>\n",
       "    <tr>\n",
       "      <th>8188752</th>\n",
       "      <td>1666915200</td>\n",
       "      <td>1686873600</td>\n",
       "      <td>1684454400</td>\n",
       "      <td>3978.00</td>\n",
       "      <td>C</td>\n",
       "      <td>E</td>\n",
       "      <td>5500.0</td>\n",
       "      <td>1.95</td>\n",
       "      <td>2.50</td>\n",
       "      <td>0.186218</td>\n",
       "      <td>0.186218</td>\n",
       "      <td>0.011806</td>\n",
       "      <td>0.000057</td>\n",
       "      <td>0.890953</td>\n",
       "      <td>-0.040615</td>\n",
       "      <td>NaN</td>\n",
       "    </tr>\n",
       "    <tr>\n",
       "      <th>8188753</th>\n",
       "      <td>1666915200</td>\n",
       "      <td>1686873600</td>\n",
       "      <td>1684454400</td>\n",
       "      <td>3978.00</td>\n",
       "      <td>C</td>\n",
       "      <td>E</td>\n",
       "      <td>5600.0</td>\n",
       "      <td>1.40</td>\n",
       "      <td>1.80</td>\n",
       "      <td>0.187206</td>\n",
       "      <td>0.187206</td>\n",
       "      <td>0.008662</td>\n",
       "      <td>0.000043</td>\n",
       "      <td>0.679999</td>\n",
       "      <td>-0.031188</td>\n",
       "      <td>NaN</td>\n",
       "    </tr>\n",
       "    <tr>\n",
       "      <th>8188754</th>\n",
       "      <td>1666915200</td>\n",
       "      <td>1686873600</td>\n",
       "      <td>1684454400</td>\n",
       "      <td>3978.00</td>\n",
       "      <td>C</td>\n",
       "      <td>E</td>\n",
       "      <td>5700.0</td>\n",
       "      <td>0.95</td>\n",
       "      <td>1.35</td>\n",
       "      <td>0.187814</td>\n",
       "      <td>0.187814</td>\n",
       "      <td>0.006245</td>\n",
       "      <td>0.000032</td>\n",
       "      <td>0.509701</td>\n",
       "      <td>-0.023430</td>\n",
       "      <td>NaN</td>\n",
       "    </tr>\n",
       "    <tr>\n",
       "      <th>8188755</th>\n",
       "      <td>1666915200</td>\n",
       "      <td>1686873600</td>\n",
       "      <td>1684454400</td>\n",
       "      <td>3978.00</td>\n",
       "      <td>C</td>\n",
       "      <td>E</td>\n",
       "      <td>5800.0</td>\n",
       "      <td>0.60</td>\n",
       "      <td>1.00</td>\n",
       "      <td>0.188726</td>\n",
       "      <td>0.188726</td>\n",
       "      <td>0.004543</td>\n",
       "      <td>0.000024</td>\n",
       "      <td>0.384076</td>\n",
       "      <td>-0.017742</td>\n",
       "      <td>NaN</td>\n",
       "    </tr>\n",
       "  </tbody>\n",
       "</table>\n",
       "<p>7792131 rows × 16 columns</p>\n",
       "</div>"
      ],
      "text/plain": [
       "               Date  UnderlyingExp      OptExp  Forward Type Style  Strike  \\\n",
       "0        1496707200     1497571200  1496793600  2430.75    P     E   100.0   \n",
       "1        1496707200     1497571200  1496793600  2430.75    P     E   500.0   \n",
       "2        1496707200     1497571200  1496793600  2430.75    P     E   800.0   \n",
       "3        1496707200     1497571200  1496793600  2430.75    P     E   825.0   \n",
       "4        1496707200     1497571200  1496793600  2430.75    P     E   850.0   \n",
       "...             ...            ...         ...      ...  ...   ...     ...   \n",
       "8188751  1666915200     1686873600  1684454400  3978.00    C     E  5400.0   \n",
       "8188752  1666915200     1686873600  1684454400  3978.00    C     E  5500.0   \n",
       "8188753  1666915200     1686873600  1684454400  3978.00    C     E  5600.0   \n",
       "8188754  1666915200     1686873600  1684454400  3978.00    C     E  5700.0   \n",
       "8188755  1666915200     1686873600  1684454400  3978.00    C     E  5800.0   \n",
       "\n",
       "          Bid   Ask     IVRaw     IVInt     Delta     Gamma      Vega  \\\n",
       "0        0.00  0.35 -1.000000  0.275049  0.000000  0.000000  0.000000   \n",
       "1        0.00  0.35 -1.000000  0.275049  0.000000  0.000000  0.000000   \n",
       "2        0.00  0.35 -1.000000  0.275049  0.000000  0.000000  0.000000   \n",
       "3        0.00  0.35 -1.000000  0.275049  0.000000  0.000000  0.000000   \n",
       "4        0.00  0.35 -1.000000  0.275049  0.000000  0.000000  0.000000   \n",
       "...       ...   ...       ...       ...       ...       ...       ...   \n",
       "8188751  2.80  3.45  0.185762  0.185762  0.016306  0.000076  1.177011   \n",
       "8188752  1.95  2.50  0.186218  0.186218  0.011806  0.000057  0.890953   \n",
       "8188753  1.40  1.80  0.187206  0.187206  0.008662  0.000043  0.679999   \n",
       "8188754  0.95  1.35  0.187814  0.187814  0.006245  0.000032  0.509701   \n",
       "8188755  0.60  1.00  0.188726  0.188726  0.004543  0.000024  0.384076   \n",
       "\n",
       "            Theta  Unnamed: 16  \n",
       "0        0.000000          NaN  \n",
       "1        0.000000          NaN  \n",
       "2        0.000000          NaN  \n",
       "3        0.000000          NaN  \n",
       "4        0.000000          NaN  \n",
       "...           ...          ...  \n",
       "8188751 -0.053464          NaN  \n",
       "8188752 -0.040615          NaN  \n",
       "8188753 -0.031188          NaN  \n",
       "8188754 -0.023430          NaN  \n",
       "8188755 -0.017742          NaN  \n",
       "\n",
       "[7792131 rows x 16 columns]"
      ]
     },
     "execution_count": 3,
     "metadata": {},
     "output_type": "execute_result"
    }
   ],
   "source": [
    "options_prices = pd.read_csv(\"./data/ES=F_opt_raw.csv\")\n",
    "options_prices['Date'] = pd.to_datetime(options_prices['Date'], format='%Y%m%d')\n",
    "options_prices['Date'] = options_prices['Date'].apply(lambda x: x.timestamp())\n",
    "options_prices['UnderlyingExp'] = pd.to_datetime(options_prices['UnderlyingExp'], format='%Y%m%d')\n",
    "options_prices['UnderlyingExp'] = options_prices['UnderlyingExp'].apply(lambda x: x.timestamp())\n",
    "options_prices['OptExp'] = pd.to_datetime(options_prices['OptExp'], format='%Y%m%d')\n",
    "options_prices['OptExp'] = options_prices['OptExp'].apply(lambda x: x.timestamp())\n",
    "options_prices = options_prices.astype({'Date': 'int64','UnderlyingExp': 'int64','OptExp': 'int64'})\n",
    "options_prices.drop(columns = ['Underlying'], inplace=True)\n",
    "options_prices = options_prices[options_prices.OptExp<=1684454400]\n",
    "options_prices = options_prices[(options_prices.Bid+options_prices.Ask)!=0]\n",
    "arr = options_prices[\"Strike\"].values\n",
    "arr[arr>9000]/=100\n",
    "options_prices[\"Strike\"] = arr\n",
    "options_prices"
   ]
  },
  {
   "cell_type": "code",
   "execution_count": 4,
   "id": "de2ed883",
   "metadata": {},
   "outputs": [],
   "source": [
    "# directory = \"./data\"\n",
    "# files = os.listdir(directory)\n",
    "# forward_prices = pd.DataFrame(columns=[\"timestamp\", \"close\", \"high\", \"low\", \"open\", \"idk\"])\n",
    "# for filename in files:\n",
    "#     if filename.endswith(\".txt\"):\n",
    "#         path_tmp = os.path.join(directory, filename)\n",
    "#         df_tmp = None\n",
    "#         with open(path_tmp) as f:\n",
    "#                 df_tmp = pd.DataFrame([ map(np.float64, i[:-1].split(\",\")[1:]) for i in f ],columns=[\"close\", \"high\", \"low\", \"open\", \"idk\"])\n",
    "#         with open(path_tmp) as f:\n",
    "#             arr = np.array(list(datetime.datetime.timestamp(datetime.datetime.strptime(i[:-1].split(\",\")[0],  \"%Y-%m-%d %H:%M:%S\")) for i in f))\n",
    "#             df_tmp[\"timestamp\"] = arr.astype('int64')\n",
    "#             forward_prices = pd.concat((forward_prices, df_tmp))\n",
    "# # forward_prices.astype({'timestamp': 'datetime64[s]'})\n",
    "# forward_prices.set_index(\"timestamp\", inplace = True)\n",
    "# forward_prices.sort_index(inplace=True)\n",
    "# forward_prices"
   ]
  },
  {
   "cell_type": "code",
   "execution_count": 8,
   "id": "19dbdb96",
   "metadata": {},
   "outputs": [
    {
     "data": {
      "text/plain": [
       "array([  10,   10,   10, ..., 1370, 1370, 1370])"
      ]
     },
     "execution_count": 8,
     "metadata": {},
     "output_type": "execute_result"
    }
   ],
   "source": [
    "opt_date_index1 = options_prices.Date.values\n",
    "vix_index2 = vix.index.values\n",
    "vix_closest_index = np.searchsorted(vix_index2, opt_date_index1, side='right') - 1\n",
    "vix_closest_index"
   ]
  },
  {
   "cell_type": "code",
   "execution_count": 9,
   "id": "2a6e2fe6",
   "metadata": {},
   "outputs": [
    {
     "data": {
      "text/plain": [
       "array([  10,   10,   10, ..., 1370, 1370, 1370])"
      ]
     },
     "execution_count": 9,
     "metadata": {},
     "output_type": "execute_result"
    }
   ],
   "source": [
    "opt_date_index1 = options_prices.Date.values\n",
    "tnx_index2 = tnx.index.values\n",
    "tnx_closest_index = np.searchsorted(tnx_index2, opt_date_index1, side='right') - 1\n",
    "tnx_closest_index"
   ]
  },
  {
   "cell_type": "code",
   "execution_count": 10,
   "id": "cdc637c1",
   "metadata": {},
   "outputs": [],
   "source": [
    "index1 = options_prices.OptExp.values\n",
    "index2 = forward_prices.index.values\n",
    "exp_closest_index = np.searchsorted(index2, index1, side='right') - 1\n",
    "exp_closest_index\n",
    "arr = (forward_prices.Close.iloc[exp_closest_index].values - options_prices.Strike.values)*(options_prices.Type==\"C\")\n",
    "arr[arr < 0] = 0\n",
    "arr2 = (-forward_prices.Close.iloc[exp_closest_index].values + options_prices.Strike.values)*(options_prices.Type==\"P\")\n",
    "arr2[arr2 < 0 ] = 0\n",
    "exp_opt_value = (arr+arr2).values"
   ]
  },
  {
   "cell_type": "code",
   "execution_count": 11,
   "id": "6ee4b788",
   "metadata": {},
   "outputs": [],
   "source": [
    "def black_scholes(t=40, r=4.00, v=32.00, K=60, St=62, type='c'):\n",
    "    \"\"\"\n",
    "    Parameters:\n",
    "    K : Excercise Price\n",
    "    St: Current Stock Price\n",
    "    v : Volatility in percentage\n",
    "    r : Risk free rate in percentage\n",
    "    t : Time to expiration in days\n",
    "    type: Type of option 'c' for call 'p' for put\n",
    "    default: 'c'\n",
    "    \"\"\"\n",
    "    if(type=='C'):\n",
    "        option_type='call'\n",
    "    else:\n",
    "        option_type='put'\n",
    "    t=t/365\n",
    "    r=r/100\n",
    "    v=v/100\n",
    "    n1=np.log(St/K)\n",
    "    n2=(r+(np.power(v,2)/2))*t\n",
    "    d=v*(np.sqrt(t))\n",
    "    d1=(n1+n2)/d\n",
    "    d2=d1-(v*np.sqrt(t))\n",
    "    if type=='C':\n",
    "        N_d1=norm.cdf(d1)\n",
    "        N_d2=norm.cdf(d2)\n",
    "    else:\n",
    "        N_d1=norm.cdf(-d1)\n",
    "        N_d2=norm.cdf(-d2)\n",
    "\n",
    "    A=(St*N_d1)\n",
    "    B=(K*N_d2*(np.exp(-r*t)))\n",
    "    if type=='C':\n",
    "        val=A-B\n",
    "        val_int=max(0,St-K)\n",
    "    else:\n",
    "        val=B-A\n",
    "        val_int=max(0,K-St)\n",
    "    return val"
   ]
  },
  {
   "cell_type": "code",
   "execution_count": 12,
   "id": "7bf9177b",
   "metadata": {},
   "outputs": [],
   "source": [
    "# @nb.njit()\n",
    "def get_proba(r, sigma, M):\n",
    "    beta = 0.5*(np.exp(-r/M) + np.exp((r + sigma**2)/M))\n",
    "    u = beta + np.sqrt(beta**2 - 1)\n",
    "    d = 1 / u\n",
    "    return u, (np.exp(r / M) - d) / (u - d)\n",
    "\n",
    "# @nb.njit()\n",
    "def price_mature_call(S_0, K, u, M):\n",
    "    d = 1 / u\n",
    "    S_M = np.zeros((M + 1,), dtype=np.float64)\n",
    "    for j in range(M + 1):\n",
    "        S_M[j] = S_0 * (u ** j) * (d ** (M - j))\n",
    "    return np.maximum(S_M - K, 0)\n",
    "\n",
    "# @nb.njit()\n",
    "def price_mature_put(S_0, K, u, M):\n",
    "    d = 1 / u\n",
    "    S_M = np.zeros((M + 1,), dtype=np.float64)\n",
    "    for j in range(M + 1):\n",
    "        S_M[j] = S_0 * (u ** j) * (d ** (M - j))\n",
    "    return np.maximum(K - S_M, 0)\n",
    "\n",
    "# @nb.njit()\n",
    "def price_previous_layer(r, M, p, current_layer):\n",
    "    return np.exp(- r / M) * (p * current_layer[1:] + (1 - p) * current_layer[:-1])\n",
    "\n",
    "# @nb.njit()\n",
    "def price_european_call(S_0, K, sigma, r, M):\n",
    "    u, p = get_proba(r, sigma, M)\n",
    "    current_layer = price_mature_call(S_0, K, u, M)\n",
    "    for layer in range(M):\n",
    "        current_layer = price_previous_layer(r, M, p, current_layer)\n",
    "    return current_layer[0]\n",
    "\n",
    "# @nb.njit()\n",
    "def price_european_put(S_0, K, sigma, r, M):\n",
    "    u, p = get_proba(r, sigma, M)\n",
    "    current_layer = price_mature_put(S_0, K, u, M)\n",
    "    for layer in range(M):\n",
    "        current_layer = price_previous_layer(r, M, p, current_layer)\n",
    "    return current_layer[0]\n",
    "\n",
    "\n",
    "\n",
    "# @nb.njit()\n",
    "def get_maturity_underlying(S_0, K, u, M):\n",
    "    d = 1/u\n",
    "    S_M = np.zeros((M+1,1), dtype=np.float64)\n",
    "    for j in range(M + 1):\n",
    "        S_M[j] = S_0 * (u ** j) * (d ** (M - j))\n",
    "    return S_M\n",
    "\n",
    "# @nb.njit()\n",
    "def price_american_put(S_0, K, sigma, r, M):\n",
    "    u, p = get_proba(r, sigma, M)\n",
    "    current_underlying = get_maturity_underlying(S_0, K, u, M)\n",
    "    current_layer = np.maximum(K - current_underlying, 0)\n",
    "    for layer in range(M):\n",
    "        continuation_value = price_previous_layer(r, M, p, current_layer)\n",
    "        current_underlying = current_underlying[:-1] * u\n",
    "        intrinsic_value = np.maximum(K - current_underlying, 0)\n",
    "        current_layer = np.maximum(intrinsic_value, continuation_value)\n",
    "    return current_layer[0]+0.0\n",
    "\n",
    "# @nb.njit()\n",
    "def price_american_call(S_0, K, sigma, r, M):\n",
    "    u, p = get_proba(r, sigma, M)\n",
    "    current_underlying = get_maturity_underlying(S_0, K, u, M)\n",
    "    current_layer = np.maximum(current_underlying - K, 0)\n",
    "    for layer in range(M):\n",
    "        continuation_value = price_previous_layer(r, M, p, current_layer)\n",
    "        current_underlying = current_underlying[:-1] * u\n",
    "        intrinsic_value = np.maximum(current_underlying - K, 0)\n",
    "        current_layer = np.maximum(intrinsic_value, continuation_value)\n",
    "    return current_layer[0]+0.0\n"
   ]
  },
  {
   "cell_type": "code",
   "execution_count": 65,
   "id": "d47eea19",
   "metadata": {},
   "outputs": [],
   "source": [
    "# @nb.njit()\n",
    "def compute_options_prices(opt_dates,strikes, forwards, opt_exp, types,  vix_closest_index, tnx_closest_index):\n",
    "    arr = []\n",
    "    volat = forward_prices.Closeвол.rolling(14).std().values\n",
    "    for index_, i in tqdm((enumerate(opt_dates))):\n",
    "        K = strikes[index_]\n",
    "        St = forwards[index_]\n",
    "        t = (opt_exp[index_] - i)/60/60/24\n",
    "        opt_type = types[index_]\n",
    "        vol = volat[tnx_closest_index[index_]]\n",
    "        r = tnx.Open.values[tnx_closest_index[index_]]\n",
    "        bsm=black_scholes(K=K, St=St, r=r, t=t, \n",
    "                         v=vol, type=opt_type)\n",
    "        arr.append(bsm)\n",
    "    return arr"
   ]
  },
  {
   "cell_type": "code",
   "execution_count": 57,
   "id": "369ccbd6",
   "metadata": {},
   "outputs": [
    {
     "name": "stderr",
     "output_type": "stream",
     "text": [
      "7792131it [23:05, 5622.19it/s]\n"
     ]
    }
   ],
   "source": [
    "opt_prices_b_s_10 = compute_options_prices(options_prices.Date.values,options_prices.Strike.values,options_prices.Forward.values, options_prices.OptExp.values, \n",
    "                       list(options_prices.Type.values), vix_closest_index, tnx_closest_index )"
   ]
  },
  {
   "cell_type": "code",
   "execution_count": 59,
   "id": "feb4ad81",
   "metadata": {},
   "outputs": [
    {
     "name": "stderr",
     "output_type": "stream",
     "text": [
      "7792131it [23:08, 5610.75it/s]\n"
     ]
    }
   ],
   "source": [
    "opt_prices_b_s_25 = compute_options_prices(options_prices.Date.values,options_prices.Strike.values,options_prices.Forward.values, options_prices.OptExp.values, \n",
    "                       list(options_prices.Type.values), vix_closest_index, tnx_closest_index )"
   ]
  },
  {
   "cell_type": "code",
   "execution_count": 63,
   "id": "d7f35e0c",
   "metadata": {},
   "outputs": [
    {
     "name": "stderr",
     "output_type": "stream",
     "text": [
      "7792131it [23:43, 5474.16it/s]\n"
     ]
    }
   ],
   "source": [
    "opt_prices_b_s_vix = compute_options_prices(options_prices.Date.values,options_prices.Strike.values,options_prices.Forward.values, options_prices.OptExp.values, \n",
    "                       list(options_prices.Type.values), vix_closest_index, tnx_closest_index )"
   ]
  },
  {
   "cell_type": "code",
   "execution_count": 67,
   "id": "09d5c6be",
   "metadata": {},
   "outputs": [
    {
     "name": "stderr",
     "output_type": "stream",
     "text": [
      "7792131it [23:08, 5610.06it/s]\n"
     ]
    }
   ],
   "source": [
    "opt_prices_b_s_std = compute_options_prices(options_prices.Date.values,options_prices.Strike.values,options_prices.Forward.values, options_prices.OptExp.values, \n",
    "                       list(options_prices.Type.values), vix_closest_index, tnx_closest_index )"
   ]
  },
  {
   "cell_type": "code",
   "execution_count": 68,
   "id": "bc0a87e3",
   "metadata": {},
   "outputs": [],
   "source": [
    "signals_b_s_10 = ((opt_prices_b_s_10>options_prices.Ask)*1-1* (opt_prices_b_s_10<options_prices.Bid)).values\n",
    "signals_b_s_25 = ((opt_prices_b_s_25>options_prices.Ask)*1-1* (opt_prices_b_s_25<options_prices.Bid)).values\n",
    "signals_b_s_vix = ((opt_prices_b_s_vix>options_prices.Ask)*1-1* (opt_prices_b_s_vix<options_prices.Bid)).values\n",
    "signals_b_s_std = ((opt_prices_b_s_std>options_prices.Ask)*1-1* (opt_prices_b_s_std<options_prices.Bid)).values\n",
    "# signals_binomial = ((opt_prices_binomial>options_prices.Ask)*1-1* (opt_prices_binomial<options_prices.Bid)).values\n",
    "# signals_b_s[signals_b_s!=-1] = -1"
   ]
  },
  {
   "cell_type": "code",
   "execution_count": 44,
   "id": "6c7cc592",
   "metadata": {},
   "outputs": [],
   "source": [
    "# pnl_array = np.zeros(vix.shape[0]+1)\n",
    "# trade_value = []\n",
    "# for i in tqdm(range(options_prices.shape[0])):\n",
    "#     value = 0\n",
    "#     if signals[i]>0:\n",
    "#         value = exp_opt_value[i] - options_prices.Ask.values[i]\n",
    "# #     elif signals[i]<0:\n",
    "# #         value =  options_prices.Bid.values[i] - exp_opt_value[i]\n",
    "#     trade_value.append(value)\n",
    "#     days_to_expire = (options_prices.OptExp.values[i] - options_prices.Date.values[i])/24/3600\n",
    "#     pnl_array[tnx_closest_index[i]:exp_closest_index[i]+1] +=value/days_to_expire\n",
    "# pnl_array"
   ]
  },
  {
   "cell_type": "code",
   "execution_count": 49,
   "id": "029c10e8",
   "metadata": {},
   "outputs": [],
   "source": [
    "@nb.njit()\n",
    "def run_backtest(signals, ask_prices, bid_prices, opt_exp, opt_date, opt_date_closest_index,exp_closest_index):\n",
    "    pnl_array = np.zeros((exp_closest_index[-1]-1- opt_date_closest_index[0],), dtype = np.float64)\n",
    "    trade_value = []\n",
    "    for i in (range(len(signals))):\n",
    "        value = 0\n",
    "        if signals[i]>0:\n",
    "            value = exp_opt_value[i] -ask_prices[i]\n",
    "        elif signals[i]<0:\n",
    "            value =  bid_prices[i] - exp_opt_value[i]\n",
    "        trade_value.append(value)\n",
    "        days_to_expire = (opt_exp[i] - opt_date[i])/24/3600\n",
    "        pnl_array[opt_date_closest_index[i] - opt_date_closest_index[0]:exp_closest_index[i]- opt_date_closest_index[0]] +=value/days_to_expire\n",
    "    return pnl_array.cumsum(), np.array(trade_value)\n",
    "\n",
    "def calc_sharpe(pnl):\n",
    "    ret = pnl[1:] - pnl[:-1]\n",
    "    if np.std(ret) < 1e-8:\n",
    "        return 0\n",
    "    return np.mean(ret) / np.std(ret) * np.sqrt(len(pnl))\n"
   ]
  },
  {
   "cell_type": "code",
   "execution_count": 83,
   "id": "ef7cc723",
   "metadata": {},
   "outputs": [
    {
     "data": {
      "image/png": "[encoded data removed]",
      "text/plain": [
       "<Figure size 1152x720 with 1 Axes>"
      ]
     },
     "metadata": {
      "needs_background": "light"
     },
     "output_type": "display_data"
    }
   ],
   "source": [
    "pnl_bs_10, trade_value_bs = run_backtest(signals_b_s_10, options_prices.Ask.values, options_prices.Bid.values, options_prices.OptExp.values, options_prices.Date.values, tnx_closest_index, exp_closest_index)\n",
    "pnl_bs_25, trade_value_bs = run_backtest(signals_b_s_25, options_prices.Ask.values, options_prices.Bid.values, options_prices.OptExp.values, options_prices.Date.values, tnx_closest_index, exp_closest_index)\n",
    "pnl_bs_vix, trade_value_bs = run_backtest(signals_b_s_vix, options_prices.Ask.values, options_prices.Bid.values, options_prices.OptExp.values, options_prices.Date.values, tnx_closest_index, exp_closest_index)\n",
    "pnl_bs_std, trade_value_bs = run_backtest(signals_b_s_std, options_prices.Ask.values, options_prices.Bid.values, options_prices.OptExp.values, options_prices.Date.values, tnx_closest_index, exp_closest_index)\n",
    "plt.figure(figsize=(16,10))\n",
    "plt.plot(pd.to_datetime(tnx.index.values[tnx_closest_index[0]:exp_closest_index[-1]], unit=\"s\"),pnl_bs_10, label= \"const 10\")\n",
    "plt.plot(pd.to_datetime(tnx.index.values[tnx_closest_index[0]:exp_closest_index[-1]], unit=\"s\"),pnl_bs_25, label= \"const 25\")\n",
    "plt.plot(pd.to_datetime(tnx.index.values[tnx_closest_index[0]:exp_closest_index[-1]], unit=\"s\"),pnl_bs_vix, label= \"vix\")\n",
    "plt.plot(pd.to_datetime(tnx.index.values[tnx_closest_index[0]:exp_closest_index[-1]], unit=\"s\"),pnl_bs_std, label= \"std\")\n",
    "plt.axvline(pd.to_datetime(tnx.index.values[tnx_closest_index[0]:exp_closest_index[-1]][1200], unit=\"s\"), label= \"train-test split\", color = \"black\")\n",
    "# plt.ylim(0, 10000)\n",
    "plt.title(\"Модель Блэка-Шоулза при разных значениях волатильности\")\n",
    "plt.legend()\n",
    "plt.ylabel(\"Pnl\")\n",
    "plt.xlabel(\"Date\")\n",
    "plt.grid()\n",
    "plt.show()"
   ]
  },
  {
   "cell_type": "code",
   "execution_count": 75,
   "id": "2c901cc7",
   "metadata": {},
   "outputs": [
    {
     "data": {
      "text/plain": [
       "16.11186911859756"
      ]
     },
     "execution_count": 75,
     "metadata": {},
     "output_type": "execute_result"
    }
   ],
   "source": [
    "print(calc_sharpe(pnl_bs_10[:1200]))\n",
    "print(calc_sharpe(pnl_bs_25[:1200]))\n",
    "print(calc_sharpe(pnl_bs_vix[:1200]))\n",
    "print(calc_sharpe(pnl_bs_std[:1200]))"
   ]
  },
  {
   "cell_type": "code",
   "execution_count": 79,
   "id": "67fcbb75",
   "metadata": {},
   "outputs": [
    {
     "name": "stdout",
     "output_type": "stream",
     "text": [
      "21065420.32261849\n",
      "11080310.344425863\n",
      "25965464.16414185\n",
      "-13100457.447588496\n"
     ]
    }
   ],
   "source": [
    "print((pnl_bs_10[1200]))\n",
    "print((pnl_bs_25[1200]))\n",
    "print((pnl_bs_vix[1200]))\n",
    "print((pnl_bs_std[1200]))"
   ]
  },
  {
   "cell_type": "code",
   "execution_count": 80,
   "id": "604461a7",
   "metadata": {},
   "outputs": [
    {
     "name": "stdout",
     "output_type": "stream",
     "text": [
      "23.078560927343776\n",
      "21.528906580334485\n",
      "-9.408224644843534\n",
      "-24.470292657209438\n"
     ]
    }
   ],
   "source": [
    "print(calc_sharpe(pnl_bs_10[1200:] - int(pnl_bs_10[1200])) )\n",
    "print(calc_sharpe(pnl_bs_25[1200:] - int(pnl_bs_25[1200])))\n",
    "print(calc_sharpe(pnl_bs_vix[1200:] - int(pnl_bs_vix[1200])))\n",
    "print(calc_sharpe(pnl_bs_std[1200:] - int(pnl_bs_std[1200])))"
   ]
  },
  {
   "cell_type": "code",
   "execution_count": 81,
   "id": "55477ad2",
   "metadata": {},
   "outputs": [
    {
     "name": "stdout",
     "output_type": "stream",
     "text": [
      "14306563.363994066\n",
      "5645559.670771696\n",
      "-3704698.163352579\n",
      "-15914177.480137639\n"
     ]
    }
   ],
   "source": [
    "print((pnl_bs_10[-1] - pnl_bs_10[1200]))\n",
    "print((pnl_bs_25[-1] - pnl_bs_25[1200]))\n",
    "print((pnl_bs_vix[-1] - pnl_bs_vix[1200]))\n",
    "print((pnl_bs_std[-1] - pnl_bs_std[1200]))"
   ]
  },
  {
   "cell_type": "code",
   "execution_count": 51,
   "id": "0ca67939",
   "metadata": {},
   "outputs": [
    {
     "data": {
      "image/png": "[encoded data removed]",
      "text/plain": [
       "<Figure size 1152x720 with 1 Axes>"
      ]
     },
     "metadata": {
      "needs_background": "light"
     },
     "output_type": "display_data"
    }
   ],
   "source": [
    "pnl_binomial, trade_value_binomial = run_backtest(signals_binomial, options_prices.Ask.values, options_prices.Bid.values, options_prices.OptExp.values, options_prices.Date.values, tnx_closest_index, exp_closest_index)\n",
    "plt.figure(figsize=(16,10))\n",
    "plt.plot(pd.to_datetime(tnx.index.values[tnx_closest_index[0]:exp_closest_index[-1]], unit=\"s\"),pnl_binomial)\n",
    "# plt.ylim(0, 10000)\n",
    "plt.grid()\n",
    "plt.show()"
   ]
  },
  {
   "cell_type": "code",
   "execution_count": null,
   "id": "bfa5ac53",
   "metadata": {},
   "outputs": [],
   "source": []
  }
 ],
 "metadata": {
  "kernelspec": {
   "display_name": "Python 3 (ipykernel)",
   "language": "python",
   "name": "python3"
  },
  "language_info": {
   "codemirror_mode": {
    "name": "ipython",
    "version": 3
   },
   "file_extension": ".py",
   "mimetype": "text/x-python",
   "name": "python",
   "nbconvert_exporter": "python",
   "pygments_lexer": "ipython3",
   "version": "3.8.10"
  }
 },
 "nbformat": 4,
 "nbformat_minor": 5
}
