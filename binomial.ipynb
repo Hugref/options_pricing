{
 "cells": [
  {
   "cell_type": "code",
   "execution_count": 77,
   "id": "b077564b",
   "metadata": {},
   "outputs": [],
   "source": [
    "import os\n",
    "import sys\n",
    "import json\n",
    "import numpy as np\n",
    "import pandas as pd\n",
    "import numba as nb\n",
    "import matplotlib.pyplot as plt\n",
    "import opstrat as op\n",
    "import datetime\n",
    "import requests\n",
    "import json\n",
    "import pprint\n",
    "from tqdm import tqdm\n",
    "from scipy.stats import norm\n",
    "pd.set_option('display.max_rows', 1000)"
   ]
  },
  {
   "cell_type": "code",
   "execution_count": 40,
   "id": "fb193066",
   "metadata": {},
   "outputs": [],
   "source": [
    "import yfinance as yf\n",
    "import yfinance as yf\n",
    "msft = yf.Ticker(\"^VIX\")\n",
    "vix = msft.history(period=\"6y\")\n",
    "vix.index = vix.index.astype('int64') // 10**9 - 18000\n",
    "msft = yf.Ticker(\"^TNX\")\n",
    "tnx = msft.history(period=\"6y\")\n",
    "tnx.index = tnx.index.astype('int64') // 10**9 - 3600*4\n",
    "msft = yf.Ticker(\"ES=F\")\n",
    "forward_prices = msft.history(period=\"6y\")\n",
    "forward_prices.index = forward_prices.index.astype('int64') // 10**9 "
   ]
  },
  {
   "cell_type": "code",
   "execution_count": 3,
   "id": "e0567731",
   "metadata": {},
   "outputs": [
    {
     "data": {
      "text/html": [
       "<div>\n",
       "<style scoped>\n",
       "    .dataframe tbody tr th:only-of-type {\n",
       "        vertical-align: middle;\n",
       "    }\n",
       "\n",
       "    .dataframe tbody tr th {\n",
       "        vertical-align: top;\n",
       "    }\n",
       "\n",
       "    .dataframe thead th {\n",
       "        text-align: right;\n",
       "    }\n",
       "</style>\n",
       "<table border=\"1\" class=\"dataframe\">\n",
       "  <thead>\n",
       "    <tr style=\"text-align: right;\">\n",
       "      <th></th>\n",
       "      <th>Date</th>\n",
       "      <th>UnderlyingExp</th>\n",
       "      <th>OptExp</th>\n",
       "      <th>Forward</th>\n",
       "      <th>Type</th>\n",
       "      <th>Style</th>\n",
       "      <th>Strike</th>\n",
       "      <th>Bid</th>\n",
       "      <th>Ask</th>\n",
       "      <th>IVRaw</th>\n",
       "      <th>IVInt</th>\n",
       "      <th>Delta</th>\n",
       "      <th>Gamma</th>\n",
       "      <th>Vega</th>\n",
       "      <th>Theta</th>\n",
       "      <th>Unnamed: 16</th>\n",
       "    </tr>\n",
       "  </thead>\n",
       "  <tbody>\n",
       "    <tr>\n",
       "      <th>0</th>\n",
       "      <td>1496707200</td>\n",
       "      <td>1497571200</td>\n",
       "      <td>1496793600</td>\n",
       "      <td>2430.75</td>\n",
       "      <td>P</td>\n",
       "      <td>E</td>\n",
       "      <td>100.0</td>\n",
       "      <td>0.00</td>\n",
       "      <td>0.35</td>\n",
       "      <td>-1.000000</td>\n",
       "      <td>0.275049</td>\n",
       "      <td>0.000000</td>\n",
       "      <td>0.000000</td>\n",
       "      <td>0.000000</td>\n",
       "      <td>0.000000</td>\n",
       "      <td>NaN</td>\n",
       "    </tr>\n",
       "    <tr>\n",
       "      <th>1</th>\n",
       "      <td>1496707200</td>\n",
       "      <td>1497571200</td>\n",
       "      <td>1496793600</td>\n",
       "      <td>2430.75</td>\n",
       "      <td>P</td>\n",
       "      <td>E</td>\n",
       "      <td>500.0</td>\n",
       "      <td>0.00</td>\n",
       "      <td>0.35</td>\n",
       "      <td>-1.000000</td>\n",
       "      <td>0.275049</td>\n",
       "      <td>0.000000</td>\n",
       "      <td>0.000000</td>\n",
       "      <td>0.000000</td>\n",
       "      <td>0.000000</td>\n",
       "      <td>NaN</td>\n",
       "    </tr>\n",
       "    <tr>\n",
       "      <th>2</th>\n",
       "      <td>1496707200</td>\n",
       "      <td>1497571200</td>\n",
       "      <td>1496793600</td>\n",
       "      <td>2430.75</td>\n",
       "      <td>P</td>\n",
       "      <td>E</td>\n",
       "      <td>800.0</td>\n",
       "      <td>0.00</td>\n",
       "      <td>0.35</td>\n",
       "      <td>-1.000000</td>\n",
       "      <td>0.275049</td>\n",
       "      <td>0.000000</td>\n",
       "      <td>0.000000</td>\n",
       "      <td>0.000000</td>\n",
       "      <td>0.000000</td>\n",
       "      <td>NaN</td>\n",
       "    </tr>\n",
       "    <tr>\n",
       "      <th>3</th>\n",
       "      <td>1496707200</td>\n",
       "      <td>1497571200</td>\n",
       "      <td>1496793600</td>\n",
       "      <td>2430.75</td>\n",
       "      <td>P</td>\n",
       "      <td>E</td>\n",
       "      <td>825.0</td>\n",
       "      <td>0.00</td>\n",
       "      <td>0.35</td>\n",
       "      <td>-1.000000</td>\n",
       "      <td>0.275049</td>\n",
       "      <td>0.000000</td>\n",
       "      <td>0.000000</td>\n",
       "      <td>0.000000</td>\n",
       "      <td>0.000000</td>\n",
       "      <td>NaN</td>\n",
       "    </tr>\n",
       "    <tr>\n",
       "      <th>4</th>\n",
       "      <td>1496707200</td>\n",
       "      <td>1497571200</td>\n",
       "      <td>1496793600</td>\n",
       "      <td>2430.75</td>\n",
       "      <td>P</td>\n",
       "      <td>E</td>\n",
       "      <td>850.0</td>\n",
       "      <td>0.00</td>\n",
       "      <td>0.35</td>\n",
       "      <td>-1.000000</td>\n",
       "      <td>0.275049</td>\n",
       "      <td>0.000000</td>\n",
       "      <td>0.000000</td>\n",
       "      <td>0.000000</td>\n",
       "      <td>0.000000</td>\n",
       "      <td>NaN</td>\n",
       "    </tr>\n",
       "    <tr>\n",
       "      <th>...</th>\n",
       "      <td>...</td>\n",
       "      <td>...</td>\n",
       "      <td>...</td>\n",
       "      <td>...</td>\n",
       "      <td>...</td>\n",
       "      <td>...</td>\n",
       "      <td>...</td>\n",
       "      <td>...</td>\n",
       "      <td>...</td>\n",
       "      <td>...</td>\n",
       "      <td>...</td>\n",
       "      <td>...</td>\n",
       "      <td>...</td>\n",
       "      <td>...</td>\n",
       "      <td>...</td>\n",
       "      <td>...</td>\n",
       "    </tr>\n",
       "    <tr>\n",
       "      <th>8188751</th>\n",
       "      <td>1666915200</td>\n",
       "      <td>1686873600</td>\n",
       "      <td>1684454400</td>\n",
       "      <td>3978.00</td>\n",
       "      <td>C</td>\n",
       "      <td>E</td>\n",
       "      <td>5400.0</td>\n",
       "      <td>2.80</td>\n",
       "      <td>3.45</td>\n",
       "      <td>0.185762</td>\n",
       "      <td>0.185762</td>\n",
       "      <td>0.016306</td>\n",
       "      <td>0.000076</td>\n",
       "      <td>1.177011</td>\n",
       "      <td>-0.053464</td>\n",
       "      <td>NaN</td>\n",
       "    </tr>\n",
       "    <tr>\n",
       "      <th>8188752</th>\n",
       "      <td>1666915200</td>\n",
       "      <td>1686873600</td>\n",
       "      <td>1684454400</td>\n",
       "      <td>3978.00</td>\n",
       "      <td>C</td>\n",
       "      <td>E</td>\n",
       "      <td>5500.0</td>\n",
       "      <td>1.95</td>\n",
       "      <td>2.50</td>\n",
       "      <td>0.186218</td>\n",
       "      <td>0.186218</td>\n",
       "      <td>0.011806</td>\n",
       "      <td>0.000057</td>\n",
       "      <td>0.890953</td>\n",
       "      <td>-0.040615</td>\n",
       "      <td>NaN</td>\n",
       "    </tr>\n",
       "    <tr>\n",
       "      <th>8188753</th>\n",
       "      <td>1666915200</td>\n",
       "      <td>1686873600</td>\n",
       "      <td>1684454400</td>\n",
       "      <td>3978.00</td>\n",
       "      <td>C</td>\n",
       "      <td>E</td>\n",
       "      <td>5600.0</td>\n",
       "      <td>1.40</td>\n",
       "      <td>1.80</td>\n",
       "      <td>0.187206</td>\n",
       "      <td>0.187206</td>\n",
       "      <td>0.008662</td>\n",
       "      <td>0.000043</td>\n",
       "      <td>0.679999</td>\n",
       "      <td>-0.031188</td>\n",
       "      <td>NaN</td>\n",
       "    </tr>\n",
       "    <tr>\n",
       "      <th>8188754</th>\n",
       "      <td>1666915200</td>\n",
       "      <td>1686873600</td>\n",
       "      <td>1684454400</td>\n",
       "      <td>3978.00</td>\n",
       "      <td>C</td>\n",
       "      <td>E</td>\n",
       "      <td>5700.0</td>\n",
       "      <td>0.95</td>\n",
       "      <td>1.35</td>\n",
       "      <td>0.187814</td>\n",
       "      <td>0.187814</td>\n",
       "      <td>0.006245</td>\n",
       "      <td>0.000032</td>\n",
       "      <td>0.509701</td>\n",
       "      <td>-0.023430</td>\n",
       "      <td>NaN</td>\n",
       "    </tr>\n",
       "    <tr>\n",
       "      <th>8188755</th>\n",
       "      <td>1666915200</td>\n",
       "      <td>1686873600</td>\n",
       "      <td>1684454400</td>\n",
       "      <td>3978.00</td>\n",
       "      <td>C</td>\n",
       "      <td>E</td>\n",
       "      <td>5800.0</td>\n",
       "      <td>0.60</td>\n",
       "      <td>1.00</td>\n",
       "      <td>0.188726</td>\n",
       "      <td>0.188726</td>\n",
       "      <td>0.004543</td>\n",
       "      <td>0.000024</td>\n",
       "      <td>0.384076</td>\n",
       "      <td>-0.017742</td>\n",
       "      <td>NaN</td>\n",
       "    </tr>\n",
       "  </tbody>\n",
       "</table>\n",
       "<p>7792131 rows × 16 columns</p>\n",
       "</div>"
      ],
      "text/plain": [
       "               Date  UnderlyingExp      OptExp  Forward Type Style  Strike  \\\n",
       "0        1496707200     1497571200  1496793600  2430.75    P     E   100.0   \n",
       "1        1496707200     1497571200  1496793600  2430.75    P     E   500.0   \n",
       "2        1496707200     1497571200  1496793600  2430.75    P     E   800.0   \n",
       "3        1496707200     1497571200  1496793600  2430.75    P     E   825.0   \n",
       "4        1496707200     1497571200  1496793600  2430.75    P     E   850.0   \n",
       "...             ...            ...         ...      ...  ...   ...     ...   \n",
       "8188751  1666915200     1686873600  1684454400  3978.00    C     E  5400.0   \n",
       "8188752  1666915200     1686873600  1684454400  3978.00    C     E  5500.0   \n",
       "8188753  1666915200     1686873600  1684454400  3978.00    C     E  5600.0   \n",
       "8188754  1666915200     1686873600  1684454400  3978.00    C     E  5700.0   \n",
       "8188755  1666915200     1686873600  1684454400  3978.00    C     E  5800.0   \n",
       "\n",
       "          Bid   Ask     IVRaw     IVInt     Delta     Gamma      Vega  \\\n",
       "0        0.00  0.35 -1.000000  0.275049  0.000000  0.000000  0.000000   \n",
       "1        0.00  0.35 -1.000000  0.275049  0.000000  0.000000  0.000000   \n",
       "2        0.00  0.35 -1.000000  0.275049  0.000000  0.000000  0.000000   \n",
       "3        0.00  0.35 -1.000000  0.275049  0.000000  0.000000  0.000000   \n",
       "4        0.00  0.35 -1.000000  0.275049  0.000000  0.000000  0.000000   \n",
       "...       ...   ...       ...       ...       ...       ...       ...   \n",
       "8188751  2.80  3.45  0.185762  0.185762  0.016306  0.000076  1.177011   \n",
       "8188752  1.95  2.50  0.186218  0.186218  0.011806  0.000057  0.890953   \n",
       "8188753  1.40  1.80  0.187206  0.187206  0.008662  0.000043  0.679999   \n",
       "8188754  0.95  1.35  0.187814  0.187814  0.006245  0.000032  0.509701   \n",
       "8188755  0.60  1.00  0.188726  0.188726  0.004543  0.000024  0.384076   \n",
       "\n",
       "            Theta  Unnamed: 16  \n",
       "0        0.000000          NaN  \n",
       "1        0.000000          NaN  \n",
       "2        0.000000          NaN  \n",
       "3        0.000000          NaN  \n",
       "4        0.000000          NaN  \n",
       "...           ...          ...  \n",
       "8188751 -0.053464          NaN  \n",
       "8188752 -0.040615          NaN  \n",
       "8188753 -0.031188          NaN  \n",
       "8188754 -0.023430          NaN  \n",
       "8188755 -0.017742          NaN  \n",
       "\n",
       "[7792131 rows x 16 columns]"
      ]
     },
     "execution_count": 3,
     "metadata": {},
     "output_type": "execute_result"
    }
   ],
   "source": [
    "options_prices = pd.read_csv(\"./data/ES=F_opt_raw.csv\")\n",
    "options_prices['Date'] = pd.to_datetime(options_prices['Date'], format='%Y%m%d')\n",
    "options_prices['Date'] = options_prices['Date'].apply(lambda x: x.timestamp())\n",
    "options_prices['UnderlyingExp'] = pd.to_datetime(options_prices['UnderlyingExp'], format='%Y%m%d')\n",
    "options_prices['UnderlyingExp'] = options_prices['UnderlyingExp'].apply(lambda x: x.timestamp())\n",
    "options_prices['OptExp'] = pd.to_datetime(options_prices['OptExp'], format='%Y%m%d')\n",
    "options_prices['OptExp'] = options_prices['OptExp'].apply(lambda x: x.timestamp())\n",
    "options_prices = options_prices.astype({'Date': 'int64','UnderlyingExp': 'int64','OptExp': 'int64'})\n",
    "options_prices.drop(columns = ['Underlying'], inplace=True)\n",
    "options_prices = options_prices[options_prices.OptExp<=1684454400]\n",
    "options_prices = options_prices[(options_prices.Bid+options_prices.Ask)!=0]\n",
    "arr = options_prices[\"Strike\"].values\n",
    "arr[arr>9000]/=100\n",
    "options_prices[\"Strike\"] = arr\n",
    "options_prices"
   ]
  },
  {
   "cell_type": "code",
   "execution_count": 4,
   "id": "de2ed883",
   "metadata": {},
   "outputs": [],
   "source": [
    "# directory = \"./data\"\n",
    "# files = os.listdir(directory)\n",
    "# forward_prices = pd.DataFrame(columns=[\"timestamp\", \"close\", \"high\", \"low\", \"open\", \"idk\"])\n",
    "# for filename in files:\n",
    "#     if filename.endswith(\".txt\"):\n",
    "#         path_tmp = os.path.join(directory, filename)\n",
    "#         df_tmp = None\n",
    "#         with open(path_tmp) as f:\n",
    "#                 df_tmp = pd.DataFrame([ map(np.float64, i[:-1].split(\",\")[1:]) for i in f ],columns=[\"close\", \"high\", \"low\", \"open\", \"idk\"])\n",
    "#         with open(path_tmp) as f:\n",
    "#             arr = np.array(list(datetime.datetime.timestamp(datetime.datetime.strptime(i[:-1].split(\",\")[0],  \"%Y-%m-%d %H:%M:%S\")) for i in f))\n",
    "#             df_tmp[\"timestamp\"] = arr.astype('int64')\n",
    "#             forward_prices = pd.concat((forward_prices, df_tmp))\n",
    "# # forward_prices.astype({'timestamp': 'datetime64[s]'})\n",
    "# forward_prices.set_index(\"timestamp\", inplace = True)\n",
    "# forward_prices.sort_index(inplace=True)\n",
    "# forward_prices"
   ]
  },
  {
   "cell_type": "code",
   "execution_count": 41,
   "id": "19dbdb96",
   "metadata": {},
   "outputs": [
    {
     "data": {
      "text/plain": [
       "array([  10,   10,   10, ..., 1370, 1370, 1370])"
      ]
     },
     "execution_count": 41,
     "metadata": {},
     "output_type": "execute_result"
    }
   ],
   "source": [
    "opt_date_index1 = options_prices.Date.values\n",
    "vix_index2 = vix.index.values\n",
    "vix_closest_index = np.searchsorted(vix_index2, opt_date_index1, side='right') - 1\n",
    "vix_closest_index"
   ]
  },
  {
   "cell_type": "code",
   "execution_count": 42,
   "id": "2a6e2fe6",
   "metadata": {},
   "outputs": [
    {
     "data": {
      "text/plain": [
       "array([  10,   10,   10, ..., 1370, 1370, 1370])"
      ]
     },
     "execution_count": 42,
     "metadata": {},
     "output_type": "execute_result"
    }
   ],
   "source": [
    "opt_date_index1 = options_prices.Date.values\n",
    "tnx_index2 = tnx.index.values\n",
    "tnx_closest_index = np.searchsorted(tnx_index2, opt_date_index1, side='right') - 1\n",
    "tnx_closest_index"
   ]
  },
  {
   "cell_type": "code",
   "execution_count": 43,
   "id": "cdc637c1",
   "metadata": {},
   "outputs": [],
   "source": [
    "index1 = options_prices.OptExp.values\n",
    "index2 = forward_prices.index.values\n",
    "exp_closest_index = np.searchsorted(index2, index1, side='right') - 1\n",
    "exp_closest_index\n",
    "arr = (forward_prices.Close.iloc[exp_closest_index].values - options_prices.Strike.values)*(options_prices.Type==\"C\")\n",
    "arr[arr < 0] = 0\n",
    "arr2 = (-forward_prices.Close.iloc[exp_closest_index].values + options_prices.Strike.values)*(options_prices.Type==\"P\")\n",
    "arr2[arr2 < 0 ] = 0\n",
    "exp_opt_value = (arr+arr2).values"
   ]
  },
  {
   "cell_type": "code",
   "execution_count": 11,
   "id": "6ee4b788",
   "metadata": {},
   "outputs": [],
   "source": [
    "def black_scholes(t=40, r=4.00, v=32.00, K=60, St=62, type='c'):\n",
    "    \"\"\"\n",
    "    Parameters:\n",
    "    K : Excercise Price\n",
    "    St: Current Stock Price\n",
    "    v : Volatility in percentage\n",
    "    r : Risk free rate in percentage\n",
    "    t : Time to expiration in days\n",
    "    type: Type of option 'c' for call 'p' for put\n",
    "    default: 'c'\n",
    "    \"\"\"\n",
    "    if(type=='C'):\n",
    "        option_type='call'\n",
    "    else:\n",
    "        option_type='put'\n",
    "    t=t/365\n",
    "    r=r/100\n",
    "    v=v/100\n",
    "    n1=np.log(St/K)\n",
    "    n2=(r+(np.power(v,2)/2))*t\n",
    "    d=v*(np.sqrt(t))\n",
    "    d1=(n1+n2)/d\n",
    "    d2=d1-(v*np.sqrt(t))\n",
    "    if type=='C':\n",
    "        N_d1=norm.cdf(d1)\n",
    "        N_d2=norm.cdf(d2)\n",
    "    else:\n",
    "        N_d1=norm.cdf(-d1)\n",
    "        N_d2=norm.cdf(-d2)\n",
    "\n",
    "    A=(St*N_d1)\n",
    "    B=(K*N_d2*(np.exp(-r*t)))\n",
    "    if type=='C':\n",
    "        val=A-B\n",
    "        val_int=max(0,St-K)\n",
    "    else:\n",
    "        val=B-A\n",
    "        val_int=max(0,K-St)\n",
    "    return val"
   ]
  },
  {
   "cell_type": "code",
   "execution_count": 12,
   "id": "7bf9177b",
   "metadata": {},
   "outputs": [],
   "source": [
    "# @nb.njit()\n",
    "def get_proba(r, sigma, M):\n",
    "    beta = 0.5*(np.exp(-r/M) + np.exp((r + sigma**2)/M))\n",
    "    u = beta + np.sqrt(beta**2 - 1)\n",
    "    d = 1 / u\n",
    "    return u, (np.exp(r / M) - d) / (u - d)\n",
    "\n",
    "# @nb.njit()\n",
    "def price_mature_call(S_0, K, u, M):\n",
    "    d = 1 / u\n",
    "    S_M = np.zeros((M + 1,), dtype=np.float64)\n",
    "    for j in range(M + 1):\n",
    "        S_M[j] = S_0 * (u ** j) * (d ** (M - j))\n",
    "    return np.maximum(S_M - K, 0)\n",
    "\n",
    "# @nb.njit()\n",
    "def price_mature_put(S_0, K, u, M):\n",
    "    d = 1 / u\n",
    "    S_M = np.zeros((M + 1,), dtype=np.float64)\n",
    "    for j in range(M + 1):\n",
    "        S_M[j] = S_0 * (u ** j) * (d ** (M - j))\n",
    "    return np.maximum(K - S_M, 0)\n",
    "\n",
    "# @nb.njit()\n",
    "def price_previous_layer(r, M, p, current_layer):\n",
    "    return np.exp(- r / M) * (p * current_layer[1:] + (1 - p) * current_layer[:-1])\n",
    "\n",
    "# @nb.njit()\n",
    "def price_european_call(S_0, K, sigma, r, M):\n",
    "    u, p = get_proba(r, sigma, M)\n",
    "    current_layer = price_mature_call(S_0, K, u, M)\n",
    "    for layer in range(M):\n",
    "        current_layer = price_previous_layer(r, M, p, current_layer)\n",
    "    return current_layer[0]\n",
    "\n",
    "# @nb.njit()\n",
    "def price_european_put(S_0, K, sigma, r, M):\n",
    "    u, p = get_proba(r, sigma, M)\n",
    "    current_layer = price_mature_put(S_0, K, u, M)\n",
    "    for layer in range(M):\n",
    "        current_layer = price_previous_layer(r, M, p, current_layer)\n",
    "    return current_layer[0]\n",
    "\n",
    "\n",
    "\n",
    "# @nb.njit()\n",
    "def get_maturity_underlying(S_0, K, u, M):\n",
    "    d = 1/u\n",
    "    S_M = np.zeros((M+1,1), dtype=np.float64)\n",
    "    for j in range(M + 1):\n",
    "        S_M[j] = S_0 * (u ** j) * (d ** (M - j))\n",
    "    return S_M\n",
    "\n",
    "# @nb.njit()\n",
    "def price_american_put(S_0, K, sigma, r, M):\n",
    "    u, p = get_proba(r, sigma, M)\n",
    "    current_underlying = get_maturity_underlying(S_0, K, u, M)\n",
    "    current_layer = np.maximum(K - current_underlying, 0)\n",
    "    for layer in range(M):\n",
    "        continuation_value = price_previous_layer(r, M, p, current_layer)\n",
    "        current_underlying = current_underlying[:-1] * u\n",
    "        intrinsic_value = np.maximum(K - current_underlying, 0)\n",
    "        current_layer = np.maximum(intrinsic_value, continuation_value)\n",
    "    return current_layer[0]+0.0\n",
    "\n",
    "# @nb.njit()\n",
    "def price_american_call(S_0, K, sigma, r, M):\n",
    "    u, p = get_proba(r, sigma, M)\n",
    "    current_underlying = get_maturity_underlying(S_0, K, u, M)\n",
    "    current_layer = np.maximum(current_underlying - K, 0)\n",
    "    for layer in range(M):\n",
    "        continuation_value = price_previous_layer(r, M, p, current_layer)\n",
    "        current_underlying = current_underlying[:-1] * u\n",
    "        intrinsic_value = np.maximum(current_underlying - K, 0)\n",
    "        current_layer = np.maximum(intrinsic_value, continuation_value)\n",
    "    return current_layer[0]+0.0\n"
   ]
  },
  {
   "cell_type": "code",
   "execution_count": 89,
   "id": "d47eea19",
   "metadata": {},
   "outputs": [],
   "source": [
    "# @nb.njit()\n",
    "def compute_options_prices(opt_dates,strikes, forwards, opt_exp, types,  vix_closest_index, tnx_closest_index):\n",
    "    arr = []\n",
    "    volat = vix.Open.rolling(14).std().values\n",
    "    for index_, i in tqdm((enumerate(opt_dates))):\n",
    "        K = strikes[index_]\n",
    "        St = forwards[index_]\n",
    "        t = (opt_exp[index_] - i)/60/60/24\n",
    "        opt_type = types[index_]\n",
    "        vol = 25\n",
    "        r = tnx.Open.values[tnx_closest_index[index_]]\n",
    "        bsm=black_scholes(K=K, St=St, r=r, t=t, \n",
    "                         v=vol, type=opt_type)\n",
    "        arr.append(bsm)\n",
    "    return arr"
   ]
  },
  {
   "cell_type": "code",
   "execution_count": 90,
   "id": "1c23bc37",
   "metadata": {},
   "outputs": [],
   "source": [
    "# @nb.njit()\n",
    "def price_binomial(M = 100, S_0 = 50,K = 70,sigma = 0.5,r = 0.01, type=\"C\", style = 'A' ):\n",
    "    if type==\"C\":\n",
    "        if style==\"E\":\n",
    "            return price_european_call(S_0, K, sigma, r, M)\n",
    "        else:\n",
    "            return price_american_call(S_0, K, sigma, r, M)\n",
    "    else:\n",
    "         if style==\"E\":\n",
    "            return price_european_put(S_0, K, sigma, r, M)\n",
    "         else:\n",
    "            return price_american_put(S_0, K, sigma, r, M)"
   ]
  },
  {
   "cell_type": "code",
   "execution_count": 96,
   "id": "32e7ed6b",
   "metadata": {},
   "outputs": [],
   "source": [
    "# @nb.njit()\n",
    "def compute_price_binomial(opt_dates,strikes, forwards, opt_exp, types,styles,  vix_closest_index, tnx_closest_index):\n",
    "    arr = []\n",
    "    volat = forward_prices.Close.rolling(14).std().values\n",
    "    for index_, i in tqdm((enumerate(opt_dates))):\n",
    "        K = strikes[index_]\n",
    "        St = forwards[index_]\n",
    "        t = int((opt_exp[index_] - i)/60/60/24)\n",
    "        opt_type = types[index_]\n",
    "        opt_style = styles[index_]\n",
    "        vol =volat[vix_closest_index[index_]]\n",
    "        r = tnx.Open.values[tnx_closest_index[index_]]\n",
    "        tmp = price_binomial(t, St, K, vol/100, r/100, opt_type,opt_style)\n",
    "        arr.append(tmp)\n",
    "#         print(index_, tmp)\n",
    "    return arr"
   ]
  },
  {
   "cell_type": "code",
   "execution_count": 92,
   "id": "b0282047",
   "metadata": {
    "scrolled": false
   },
   "outputs": [
    {
     "name": "stderr",
     "output_type": "stream",
     "text": [
      "7792131it [1:15:11, 1727.29it/s]\n"
     ]
    }
   ],
   "source": [
    "opt_prices_binomial_25 =  compute_price_binomial(options_prices.Date.values,options_prices.Strike.values,options_prices.Forward.values,\n",
    "                                              options_prices.OptExp.values, \n",
    "                       list(options_prices.Type.values),list(options_prices.Style.values), vix_closest_index,tnx_closest_index= tnx_closest_index)"
   ]
  },
  {
   "cell_type": "code",
   "execution_count": 95,
   "id": "b7d5e557",
   "metadata": {},
   "outputs": [
    {
     "name": "stderr",
     "output_type": "stream",
     "text": [
      "7285599it [1:12:26, 688.66it/s] IOPub message rate exceeded.\n",
      "The notebook server will temporarily stop sending output\n",
      "to the client in order to avoid crashing it.\n",
      "To change this limit, set the config variable\n",
      "`--NotebookApp.iopub_msg_rate_limit`.\n",
      "\n",
      "Current values:\n",
      "NotebookApp.iopub_msg_rate_limit=1000.0 (msgs/sec)\n",
      "NotebookApp.rate_limit_window=3.0 (secs)\n",
      "\n"
     ]
    }
   ],
   "source": [
    "opt_prices_binomial_vix =  compute_price_binomial(options_prices.Date.values,options_prices.Strike.values,options_prices.Forward.values,\n",
    "                                              options_prices.OptExp.values, \n",
    "                       list(options_prices.Type.values),list(options_prices.Style.values), vix_closest_index,tnx_closest_index= tnx_closest_index)"
   ]
  },
  {
   "cell_type": "code",
   "execution_count": 97,
   "id": "c05ef271",
   "metadata": {},
   "outputs": [
    {
     "name": "stderr",
     "output_type": "stream",
     "text": [
      "4951011it [50:20, 3685.01it/s]IOPub message rate exceeded.\n",
      "The notebook server will temporarily stop sending output\n",
      "to the client in order to avoid crashing it.\n",
      "To change this limit, set the config variable\n",
      "`--NotebookApp.iopub_msg_rate_limit`.\n",
      "\n",
      "Current values:\n",
      "NotebookApp.iopub_msg_rate_limit=1000.0 (msgs/sec)\n",
      "NotebookApp.rate_limit_window=3.0 (secs)\n",
      "\n"
     ]
    }
   ],
   "source": [
    "opt_prices_binomial_std =  compute_price_binomial(options_prices.Date.values,options_prices.Strike.values,options_prices.Forward.values,\n",
    "                                              options_prices.OptExp.values, \n",
    "                       list(options_prices.Type.values),list(options_prices.Style.values), vix_closest_index,tnx_closest_index= tnx_closest_index)"
   ]
  },
  {
   "cell_type": "code",
   "execution_count": 93,
   "id": "369ccbd6",
   "metadata": {
    "scrolled": true
   },
   "outputs": [
    {
     "name": "stderr",
     "output_type": "stream",
     "text": [
      "11286it [00:02, 5414.26it/s]\n",
      "Exception ignored in: <function WeakValueDictionary.__init__.<locals>.remove at 0x7f3a6f9f7d30>\n",
      "Traceback (most recent call last):\n",
      "  File \"/usr/lib/python3.8/weakref.py\", line 103, in remove\n",
      "    def remove(wr, selfref=ref(self), _atomic_removal=_remove_dead_weakref):\n",
      "KeyboardInterrupt: \n"
     ]
    },
    {
     "ename": "KeyboardInterrupt",
     "evalue": "",
     "output_type": "error",
     "traceback": [
      "\u001b[0;31m---------------------------------------------------------------------------\u001b[0m",
      "\u001b[0;31mKeyboardInterrupt\u001b[0m                         Traceback (most recent call last)",
      "Input \u001b[0;32mIn [93]\u001b[0m, in \u001b[0;36m<cell line: 1>\u001b[0;34m()\u001b[0m\n\u001b[0;32m----> 1\u001b[0m opt_prices_b_s_25 \u001b[38;5;241m=\u001b[39m \u001b[43mcompute_options_prices\u001b[49m\u001b[43m(\u001b[49m\u001b[43moptions_prices\u001b[49m\u001b[38;5;241;43m.\u001b[39;49m\u001b[43mDate\u001b[49m\u001b[38;5;241;43m.\u001b[39;49m\u001b[43mvalues\u001b[49m\u001b[43m,\u001b[49m\u001b[43moptions_prices\u001b[49m\u001b[38;5;241;43m.\u001b[39;49m\u001b[43mStrike\u001b[49m\u001b[38;5;241;43m.\u001b[39;49m\u001b[43mvalues\u001b[49m\u001b[43m,\u001b[49m\u001b[43moptions_prices\u001b[49m\u001b[38;5;241;43m.\u001b[39;49m\u001b[43mForward\u001b[49m\u001b[38;5;241;43m.\u001b[39;49m\u001b[43mvalues\u001b[49m\u001b[43m,\u001b[49m\u001b[43m \u001b[49m\u001b[43moptions_prices\u001b[49m\u001b[38;5;241;43m.\u001b[39;49m\u001b[43mOptExp\u001b[49m\u001b[38;5;241;43m.\u001b[39;49m\u001b[43mvalues\u001b[49m\u001b[43m,\u001b[49m\u001b[43m \u001b[49m\n\u001b[1;32m      2\u001b[0m \u001b[43m                       \u001b[49m\u001b[38;5;28;43mlist\u001b[39;49m\u001b[43m(\u001b[49m\u001b[43moptions_prices\u001b[49m\u001b[38;5;241;43m.\u001b[39;49m\u001b[43mType\u001b[49m\u001b[38;5;241;43m.\u001b[39;49m\u001b[43mvalues\u001b[49m\u001b[43m)\u001b[49m\u001b[43m,\u001b[49m\u001b[43m \u001b[49m\u001b[43mvix_closest_index\u001b[49m\u001b[43m,\u001b[49m\u001b[43m \u001b[49m\u001b[43mtnx_closest_index\u001b[49m\u001b[43m \u001b[49m\u001b[43m)\u001b[49m\n",
      "Input \u001b[0;32mIn [89]\u001b[0m, in \u001b[0;36mcompute_options_prices\u001b[0;34m(opt_dates, strikes, forwards, opt_exp, types, vix_closest_index, tnx_closest_index)\u001b[0m\n\u001b[1;32m     10\u001b[0m     vol \u001b[38;5;241m=\u001b[39m \u001b[38;5;241m25\u001b[39m\n\u001b[1;32m     11\u001b[0m     r \u001b[38;5;241m=\u001b[39m tnx\u001b[38;5;241m.\u001b[39mOpen\u001b[38;5;241m.\u001b[39mvalues[tnx_closest_index[index_]]\n\u001b[0;32m---> 12\u001b[0m     bsm\u001b[38;5;241m=\u001b[39m\u001b[43mblack_scholes\u001b[49m\u001b[43m(\u001b[49m\u001b[43mK\u001b[49m\u001b[38;5;241;43m=\u001b[39;49m\u001b[43mK\u001b[49m\u001b[43m,\u001b[49m\u001b[43m \u001b[49m\u001b[43mSt\u001b[49m\u001b[38;5;241;43m=\u001b[39;49m\u001b[43mSt\u001b[49m\u001b[43m,\u001b[49m\u001b[43m \u001b[49m\u001b[43mr\u001b[49m\u001b[38;5;241;43m=\u001b[39;49m\u001b[43mr\u001b[49m\u001b[43m,\u001b[49m\u001b[43m \u001b[49m\u001b[43mt\u001b[49m\u001b[38;5;241;43m=\u001b[39;49m\u001b[43mt\u001b[49m\u001b[43m,\u001b[49m\u001b[43m \u001b[49m\n\u001b[1;32m     13\u001b[0m \u001b[43m                     \u001b[49m\u001b[43mv\u001b[49m\u001b[38;5;241;43m=\u001b[39;49m\u001b[43mvol\u001b[49m\u001b[43m,\u001b[49m\u001b[43m \u001b[49m\u001b[38;5;28;43mtype\u001b[39;49m\u001b[38;5;241;43m=\u001b[39;49m\u001b[43mopt_type\u001b[49m\u001b[43m)\u001b[49m\n\u001b[1;32m     14\u001b[0m     arr\u001b[38;5;241m.\u001b[39mappend(bsm)\n\u001b[1;32m     15\u001b[0m \u001b[38;5;28;01mreturn\u001b[39;00m arr\n",
      "Input \u001b[0;32mIn [11]\u001b[0m, in \u001b[0;36mblack_scholes\u001b[0;34m(t, r, v, K, St, type)\u001b[0m\n\u001b[1;32m     23\u001b[0m d2\u001b[38;5;241m=\u001b[39md1\u001b[38;5;241m-\u001b[39m(v\u001b[38;5;241m*\u001b[39mnp\u001b[38;5;241m.\u001b[39msqrt(t))\n\u001b[1;32m     24\u001b[0m \u001b[38;5;28;01mif\u001b[39;00m \u001b[38;5;28mtype\u001b[39m\u001b[38;5;241m==\u001b[39m\u001b[38;5;124m'\u001b[39m\u001b[38;5;124mC\u001b[39m\u001b[38;5;124m'\u001b[39m:\n\u001b[0;32m---> 25\u001b[0m     N_d1\u001b[38;5;241m=\u001b[39m\u001b[43mnorm\u001b[49m\u001b[38;5;241;43m.\u001b[39;49m\u001b[43mcdf\u001b[49m\u001b[43m(\u001b[49m\u001b[43md1\u001b[49m\u001b[43m)\u001b[49m\n\u001b[1;32m     26\u001b[0m     N_d2\u001b[38;5;241m=\u001b[39mnorm\u001b[38;5;241m.\u001b[39mcdf(d2)\n\u001b[1;32m     27\u001b[0m \u001b[38;5;28;01melse\u001b[39;00m:\n",
      "File \u001b[0;32m/usr/local/lib/python3.8/dist-packages/scipy/stats/_distn_infrastructure.py:2181\u001b[0m, in \u001b[0;36mrv_continuous.cdf\u001b[0;34m(self, x, *args, **kwds)\u001b[0m\n\u001b[1;32m   2179\u001b[0m cond2 \u001b[38;5;241m=\u001b[39m (x \u001b[38;5;241m>\u001b[39m\u001b[38;5;241m=\u001b[39m np\u001b[38;5;241m.\u001b[39masarray(_b)) \u001b[38;5;241m&\u001b[39m cond0\n\u001b[1;32m   2180\u001b[0m cond \u001b[38;5;241m=\u001b[39m cond0 \u001b[38;5;241m&\u001b[39m cond1\n\u001b[0;32m-> 2181\u001b[0m output \u001b[38;5;241m=\u001b[39m zeros(\u001b[43mshape\u001b[49m\u001b[43m(\u001b[49m\u001b[43mcond\u001b[49m\u001b[43m)\u001b[49m, dtyp)\n\u001b[1;32m   2182\u001b[0m place(output, (\u001b[38;5;241m1\u001b[39m\u001b[38;5;241m-\u001b[39mcond0)\u001b[38;5;241m+\u001b[39mnp\u001b[38;5;241m.\u001b[39misnan(x), \u001b[38;5;28mself\u001b[39m\u001b[38;5;241m.\u001b[39mbadvalue)\n\u001b[1;32m   2183\u001b[0m place(output, cond2, \u001b[38;5;241m1.0\u001b[39m)\n",
      "File \u001b[0;32m<__array_function__ internals>:180\u001b[0m, in \u001b[0;36mshape\u001b[0;34m(*args, **kwargs)\u001b[0m\n",
      "File \u001b[0;32m/usr/local/lib/python3.8/dist-packages/numpy/core/fromnumeric.py:2006\u001b[0m, in \u001b[0;36mshape\u001b[0;34m(a)\u001b[0m\n\u001b[1;32m   1965\u001b[0m \u001b[38;5;129m@array_function_dispatch\u001b[39m(_shape_dispatcher)\n\u001b[1;32m   1966\u001b[0m \u001b[38;5;28;01mdef\u001b[39;00m \u001b[38;5;21mshape\u001b[39m(a):\n\u001b[1;32m   1967\u001b[0m     \u001b[38;5;124;03m\"\"\"\u001b[39;00m\n\u001b[1;32m   1968\u001b[0m \u001b[38;5;124;03m    Return the shape of an array.\u001b[39;00m\n\u001b[1;32m   1969\u001b[0m \n\u001b[0;32m   (...)\u001b[0m\n\u001b[1;32m   2004\u001b[0m \n\u001b[1;32m   2005\u001b[0m \u001b[38;5;124;03m    \"\"\"\u001b[39;00m\n\u001b[0;32m-> 2006\u001b[0m     \u001b[38;5;28;01mtry\u001b[39;00m:\n\u001b[1;32m   2007\u001b[0m         result \u001b[38;5;241m=\u001b[39m a\u001b[38;5;241m.\u001b[39mshape\n\u001b[1;32m   2008\u001b[0m     \u001b[38;5;28;01mexcept\u001b[39;00m \u001b[38;5;167;01mAttributeError\u001b[39;00m:\n",
      "\u001b[0;31mKeyboardInterrupt\u001b[0m: "
     ]
    }
   ],
   "source": [
    "opt_prices_b_s_25 = compute_options_prices(options_prices.Date.values,options_prices.Strike.values,options_prices.Forward.values, options_prices.OptExp.values, \n",
    "                       list(options_prices.Type.values), vix_closest_index, tnx_closest_index )"
   ]
  },
  {
   "cell_type": "code",
   "execution_count": 67,
   "id": "5c2af672",
   "metadata": {},
   "outputs": [],
   "source": [
    "# options_prices[\"Unnamed: 16\"] = opt_prices_b_s"
   ]
  },
  {
   "cell_type": "code",
   "execution_count": 101,
   "id": "d2365c8e",
   "metadata": {},
   "outputs": [],
   "source": [
    "signals_b_s_10 = ((opt_prices_binomial>options_prices.Ask)*1-1*(opt_prices_binomial<options_prices.Bid)).values\n",
    "signals_b_s_25 = ((opt_prices_binomial_25>options_prices.Ask)*1-1* (opt_prices_binomial_25<options_prices.Bid)).values\n",
    "signals_b_s_vix = ((opt_prices_binomial_vix>options_prices.Ask)*1-1* (opt_prices_binomial_vix<options_prices.Bid)).values\n",
    "signals_b_s_std = ((opt_prices_binomial_std>options_prices.Ask)*1-1* (opt_prices_binomial_std<options_prices.Bid)).values\n",
    "\n",
    "# signals_b_s[signals_b_s!=-1] = -1"
   ]
  },
  {
   "cell_type": "code",
   "execution_count": 73,
   "id": "ece1bbff",
   "metadata": {},
   "outputs": [],
   "source": [
    "# pnl_array = np.zeros(vix.shape[0]+1)\n",
    "# trade_value = []\n",
    "# for i in tqdm(range(options_prices.shape[0])):\n",
    "#     value = 0\n",
    "#     if signals[i]>0:\n",
    "#         value = exp_opt_value[i] - options_prices.Ask.values[i]\n",
    "# #     elif signals[i]<0:\n",
    "# #         value =  options_prices.Bid.values[i] - exp_opt_value[i]\n",
    "#     trade_value.append(value)\n",
    "#     days_to_expire = (options_prices.OptExp.values[i] - options_prices.Date.values[i])/24/3600\n",
    "#     pnl_array[tnx_closest_index[i]:exp_closest_index[i]+1] +=value/days_to_expire\n",
    "# pnl_array"
   ]
  },
  {
   "cell_type": "code",
   "execution_count": 99,
   "id": "0a1e6170",
   "metadata": {},
   "outputs": [],
   "source": [
    "@nb.njit()\n",
    "def run_backtest(signals, ask_prices, bid_prices, opt_exp, opt_date, opt_date_closest_index,exp_closest_index):\n",
    "    pnl_array = np.zeros((exp_closest_index[-1]-1- opt_date_closest_index[0],), dtype = np.float64)\n",
    "    trade_value = []\n",
    "    for i in (range(len(signals))):\n",
    "        value = 0\n",
    "        if signals[i]>0:\n",
    "            value = exp_opt_value[i] -ask_prices[i]\n",
    "        elif signals[i]<0:\n",
    "            value =  bid_prices[i] - exp_opt_value[i]\n",
    "        trade_value.append(value)\n",
    "        days_to_expire = (opt_exp[i] - opt_date[i])/24/3600\n",
    "        pnl_array[opt_date_closest_index[i] - opt_date_closest_index[0]:exp_closest_index[i]- opt_date_closest_index[0]] +=value/days_to_expire\n",
    "    return pnl_array.cumsum(), np.array(trade_value)\n",
    "\n",
    "def calc_sharpe(pnl):\n",
    "    ret = pnl[1:] - pnl[:-1]\n",
    "    if np.std(ret) < 1e-8:\n",
    "        return 0\n",
    "    return np.mean(ret) / np.std(ret)  np.sqrt(len(pnl))\n"
   ]
  },
  {
   "cell_type": "code",
   "execution_count": 108,
   "id": "c413e47d",
   "metadata": {},
   "outputs": [
    {
     "data": {
      "image/png": "[encoded data removed]",
      "text/plain": [
       "<Figure size 1152x720 with 1 Axes>"
      ]
     },
     "metadata": {
      "needs_background": "light"
     },
     "output_type": "display_data"
    }
   ],
   "source": [
    "pnl_bs_10, trade_value_bs = run_backtest(signals_b_s_10, options_prices.Ask.values, options_prices.Bid.values, options_prices.OptExp.values, options_prices.Date.values, tnx_closest_index, exp_closest_index)\n",
    "pnl_bs_25, trade_value_bs = run_backtest(signals_b_s_25, options_prices.Ask.values, options_prices.Bid.values, options_prices.OptExp.values, options_prices.Date.values, tnx_closest_index, exp_closest_index)\n",
    "pnl_bs_vix, trade_value_bs = run_backtest(signals_b_s_vix, options_prices.Ask.values, options_prices.Bid.values, options_prices.OptExp.values, options_prices.Date.values, tnx_closest_index, exp_closest_index)\n",
    "pnl_bs_std, trade_value_bs = run_backtest(signals_b_s_std, options_prices.Ask.values, options_prices.Bid.values, options_prices.OptExp.values, options_prices.Date.values, tnx_closest_index, exp_closest_index)\n",
    "plt.figure(figsize=(16,10))\n",
    "plt.plot(pd.to_datetime(tnx.index.values[tnx_closest_index[0]:exp_closest_index[-1]], unit=\"s\"),pnl_bs_10, label= \"const 10\")\n",
    "plt.plot(pd.to_datetime(tnx.index.values[tnx_closest_index[0]:exp_closest_index[-1]], unit=\"s\"),pnl_bs_25, label= \"const 25\")\n",
    "plt.plot(pd.to_datetime(tnx.index.values[tnx_closest_index[0]:exp_closest_index[-1]], unit=\"s\"),pnl_bs_vix, label= \"vix\")\n",
    "plt.plot(pd.to_datetime(tnx.index.values[tnx_closest_index[0]:exp_closest_index[-1]], unit=\"s\"),pnl_bs_std, label= \"std\")\n",
    "plt.axvline(pd.to_datetime(tnx.index.values[tnx_closest_index[0]:exp_closest_index[-1]][1200], unit=\"s\"), label= \"train-test split\", color = \"black\")\n",
    "plt.title(\"Биномиальная модель при разных значениях волатильности\")\n",
    "plt.legend()\n",
    "plt.ylabel(\"Pnl\")\n",
    "plt.xlabel(\"Date\")\n",
    "plt.grid()\n",
    "plt.show()"
   ]
  },
  {
   "cell_type": "code",
   "execution_count": 103,
   "id": "a21d035d",
   "metadata": {},
   "outputs": [
    {
     "name": "stdout",
     "output_type": "stream",
     "text": [
      "27.845426552143376\n",
      "-13.153667957680106\n",
      "-7.163610485784388\n",
      "-14.366986819693901\n"
     ]
    }
   ],
   "source": [
    "print(calc_sharpe(pnl_bs_10[:1200]))\n",
    "print(calc_sharpe(pnl_bs_25[:1200]))\n",
    "print(calc_sharpe(pnl_bs_vix[:1200]))\n",
    "print(calc_sharpe(pnl_bs_std[:1200]))"
   ]
  },
  {
   "cell_type": "code",
   "execution_count": 105,
   "id": "4ac6e3b6",
   "metadata": {},
   "outputs": [
    {
     "name": "stdout",
     "output_type": "stream",
     "text": [
      "18061569\n",
      "-16982006\n",
      "-8712131\n",
      "-19545720\n"
     ]
    }
   ],
   "source": [
    "print(int(pnl_bs_10[1200]))\n",
    "print(int(pnl_bs_25[1200]))\n",
    "print(int(pnl_bs_vix[1200]))\n",
    "print(int(pnl_bs_std[1200]))"
   ]
  },
  {
   "cell_type": "code",
   "execution_count": 106,
   "id": "d977ffd6",
   "metadata": {},
   "outputs": [
    {
     "name": "stdout",
     "output_type": "stream",
     "text": [
      "16.646903771941265\n",
      "-19.414244769641172\n",
      "-20.61049980506735\n",
      "-24.588995124648672\n"
     ]
    }
   ],
   "source": [
    "print(calc_sharpe(pnl_bs_10[1200:] - int(pnl_bs_10[1200])) )\n",
    "print(calc_sharpe(pnl_bs_25[1200:] - int(pnl_bs_25[1200])))\n",
    "print(calc_sharpe(pnl_bs_vix[1200:] - int(pnl_bs_vix[1200])))\n",
    "print(calc_sharpe(pnl_bs_std[1200:] - int(pnl_bs_std[1200])))"
   ]
  },
  {
   "cell_type": "code",
   "execution_count": 107,
   "id": "dc6cfbd8",
   "metadata": {
    "scrolled": true
   },
   "outputs": [
    {
     "name": "stdout",
     "output_type": "stream",
     "text": [
      "7934299.0489441715\n",
      "-10716668.090456426\n",
      "-11968732.403636184\n",
      "-16034879.23371287\n"
     ]
    }
   ],
   "source": [
    "print((pnl_bs_10[-1] - pnl_bs_10[1200]))\n",
    "print((pnl_bs_25[-1] - pnl_bs_25[1200]))\n",
    "print((pnl_bs_vix[-1] - pnl_bs_vix[1200]))\n",
    "print((pnl_bs_std[-1] - pnl_bs_std[1200]))"
   ]
  },
  {
   "cell_type": "code",
   "execution_count": 80,
   "id": "e421790d",
   "metadata": {},
   "outputs": [
    {
     "data": {
      "image/png": "[encoded data removed]",
      "text/plain": [
       "<Figure size 1152x720 with 1 Axes>"
      ]
     },
     "metadata": {
      "needs_background": "light"
     },
     "output_type": "display_data"
    }
   ],
   "source": [
    "pnl_bs, trade_value_bs = run_backtest(signals_b_s, options_prices.Ask.values, options_prices.Bid.values, options_prices.OptExp.values, options_prices.Date.values, tnx_closest_index, exp_closest_index)\n",
    "\n",
    "plt.figure(figsize=(16,10))\n",
    "plt.plot(pd.to_datetime(tnx.index.values[tnx_closest_index[0]:exp_closest_index[-1]], unit=\"s\"),pnl_bs)\n",
    "# plt.ylim(0, 10000)\n",
    "plt.grid()\n",
    "plt.show()"
   ]
  },
  {
   "cell_type": "code",
   "execution_count": 87,
   "id": "55316907",
   "metadata": {},
   "outputs": [
    {
     "data": {
      "text/plain": [
       "16.646903771941265"
      ]
     },
     "execution_count": 87,
     "metadata": {},
     "output_type": "execute_result"
    }
   ],
   "source": [
    "calc_sharpe(pnl_binomial[1200:] - pnl_binomial[1200])"
   ]
  },
  {
   "cell_type": "code",
   "execution_count": 88,
   "id": "086fa010",
   "metadata": {},
   "outputs": [
    {
     "data": {
      "text/plain": [
       "23.078560927343776"
      ]
     },
     "execution_count": 88,
     "metadata": {},
     "output_type": "execute_result"
    }
   ],
   "source": [
    "calc_sharpe(pnl_bs[1200:] - pnl_bs[1200])"
   ]
  },
  {
   "cell_type": "code",
   "execution_count": null,
   "id": "28f6f784",
   "metadata": {},
   "outputs": [],
   "source": []
  },
  {
   "cell_type": "code",
   "execution_count": 81,
   "id": "af52f115",
   "metadata": {},
   "outputs": [
    {
     "data": {
      "image/png": "[encoded data removed]",
      "text/plain": [
       "<Figure size 1152x720 with 1 Axes>"
      ]
     },
     "metadata": {
      "needs_background": "light"
     },
     "output_type": "display_data"
    }
   ],
   "source": [
    "pnl_binomial, trade_value_binomial = run_backtest(signals_binomial, options_prices.Ask.values, options_prices.Bid.values, options_prices.OptExp.values, options_prices.Date.values, tnx_closest_index, exp_closest_index)\n",
    "plt.figure(figsize=(16,10))\n",
    "plt.plot(pd.to_datetime(tnx.index.values[tnx_closest_index[0]:exp_closest_index[-1]], unit=\"s\"),pnl_binomial)\n",
    "# plt.ylim(0, 10000)\n",
    "plt.grid()\n",
    "plt.show()"
   ]
  },
  {
   "cell_type": "code",
   "execution_count": 83,
   "id": "ad822b24",
   "metadata": {},
   "outputs": [
    {
     "data": {
      "text/plain": [
       "31.538580031298235"
      ]
     },
     "execution_count": 83,
     "metadata": {},
     "output_type": "execute_result"
    }
   ],
   "source": [
    "calc_sharpe(pnl_binomial)"
   ]
  },
  {
   "cell_type": "code",
   "execution_count": null,
   "id": "7013e747",
   "metadata": {},
   "outputs": [],
   "source": [
    "trade_value[signals>0][:1000]"
   ]
  },
  {
   "cell_type": "code",
   "execution_count": null,
   "id": "e42c13ab",
   "metadata": {},
   "outputs": [],
   "source": [
    "plt.figure(figsize=(16,10))\n",
    "plt.hist(trade_value[signals>0], bins = 1000)[-1]\n",
    "# plt.ylim(0, 10000)\n",
    "plt.grid()\n",
    "plt.show()"
   ]
  },
  {
   "cell_type": "code",
   "execution_count": null,
   "id": "1a020acb",
   "metadata": {},
   "outputs": [],
   "source": [
    "vix.shape[0]"
   ]
  },
  {
   "cell_type": "code",
   "execution_count": null,
   "id": "aa93b9da",
   "metadata": {},
   "outputs": [],
   "source": [
    "exp_closest_index"
   ]
  },
  {
   "cell_type": "code",
   "execution_count": null,
   "id": "82713bdb",
   "metadata": {},
   "outputs": [],
   "source": [
    "tnx_closest_index"
   ]
  },
  {
   "cell_type": "code",
   "execution_count": null,
   "id": "ca3259c2",
   "metadata": {},
   "outputs": [],
   "source": [
    "pnl_array.cumsum()"
   ]
  },
  {
   "cell_type": "code",
   "execution_count": null,
   "id": "ade7f492",
   "metadata": {},
   "outputs": [],
   "source": [
    "\n",
    "plt.figure(figsize=(16,10))\n",
    "plt.plot(pnl)\n",
    "# plt.ylim(0, 10000)\n",
    "plt.grid()\n",
    "plt.show()"
   ]
  },
  {
   "cell_type": "code",
   "execution_count": 60,
   "id": "84b17544",
   "metadata": {},
   "outputs": [
    {
     "data": {
      "text/plain": [
       "4252462"
      ]
     },
     "execution_count": 60,
     "metadata": {},
     "output_type": "execute_result"
    }
   ],
   "source": [
    "(signals_binomial>0).sum()"
   ]
  },
  {
   "cell_type": "code",
   "execution_count": 61,
   "id": "1e69c4c6",
   "metadata": {},
   "outputs": [
    {
     "data": {
      "text/plain": [
       "2572919"
      ]
     },
     "execution_count": 61,
     "metadata": {},
     "output_type": "execute_result"
    }
   ],
   "source": [
    "(signals_binomial<0).sum()"
   ]
  },
  {
   "cell_type": "code",
   "execution_count": null,
   "id": "aab9223c",
   "metadata": {},
   "outputs": [],
   "source": []
  }
 ],
 "metadata": {
  "kernelspec": {
   "display_name": "Python 3 (ipykernel)",
   "language": "python",
   "name": "python3"
  },
  "language_info": {
   "codemirror_mode": {
    "name": "ipython",
    "version": 3
   },
   "file_extension": ".py",
   "mimetype": "text/x-python",
   "name": "python",
   "nbconvert_exporter": "python",
   "pygments_lexer": "ipython3",
   "version": "3.8.10"
  }
 },
 "nbformat": 4,
 "nbformat_minor": 5
}
